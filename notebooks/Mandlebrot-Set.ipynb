{
 "cells": [
  {
   "attachments": {
    "image.png": {
     "image/png": "[encoded data removed]"
    }
   },
   "cell_type": "markdown",
   "metadata": {},
   "source": [
    "<div style=\"text-align: right\"><i>Ivy Zhang<br>2024</i></div>\n",
    "\n",
    "# Mandlebrot Set\n",
    "\n",
    "The Mandlebrot Set is defined as all the values *c* in the complex number plane which don't diverge on the term $f_c(z) = z^2 + c$. While the mathematical definition seems quite boring, our final set generates beautiful fractals out of this simplicity.\n",
    "\n",
    "To generate an image, we'll have to generate the matrix of *c* values to test, run an interative function to check divergence, and then plot the valid values at the end.\n",
    "\n",
    "I'm going to try and recreate the first published picture of the set:\n",
    "\n",
    "![image.png](attachment:image.png)"
   ]
  },
  {
   "cell_type": "code",
   "execution_count": 80,
   "metadata": {},
   "outputs": [],
   "source": [
    "import numpy as np\n",
    "from IPython.display import display, HTML"
   ]
  },
  {
   "cell_type": "markdown",
   "metadata": {},
   "source": [
    "## Generating Matrix\n",
    "\n",
    "I'm not doing anything fancy here besides using some basic broadcasting to get our filled out 2D grid."
   ]
  },
  {
   "cell_type": "code",
   "execution_count": 81,
   "metadata": {},
   "outputs": [],
   "source": [
    "def generate_c_matrix(x_lo, x_hi, y_lo, y_hi, step_size=0.25):\n",
    "    xs = np.arange(x_lo, x_hi, step_size)[np.newaxis, :]\n",
    "    ys = np.arange(y_lo, y_hi, step_size)[:, np.newaxis]\n",
    "    return (xs + (ys * 1j))"
   ]
  },
  {
   "cell_type": "code",
   "execution_count": 82,
   "metadata": {},
   "outputs": [],
   "source": [
    "def mandlebrot_iter(parameters, iters=100):\n",
    "    z = np.zeros_like(parameters)\n",
    "    for _ in range(iters):\n",
    "        z = np.square(z) + parameters\n",
    "        \n",
    "        # It diverges if the absolute value ever goes above 2\n",
    "        # Replace with np.nan since this shouldn't undergo any operations\n",
    "        z[np.abs(z) >= 2] = np.nan \n",
    "    return z"
   ]
  },
  {
   "cell_type": "code",
   "execution_count": 83,
   "metadata": {},
   "outputs": [],
   "source": [
    "possible_c = generate_c_matrix(-2, 0.5, -1, 1, 0.05)\n",
    "valid_c = mandlebrot_iter(possible_c, 50)\n",
    "valid_idx = np.argwhere(np.isfinite(valid_c))"
   ]
  },
  {
   "cell_type": "markdown",
   "metadata": {},
   "source": [
    "The picture code blow is shamelessly taken from [Peter Norvig's notebook on GoL](https://github.com/norvig/pytudes/blob/main/ipynb/Life.ipynb)."
   ]
  },
  {
   "cell_type": "code",
   "execution_count": 84,
   "metadata": {},
   "outputs": [],
   "source": [
    "VALID   = 'X'\n",
    "INVALID = ' '\n",
    "PAD     = ' '\n",
    "        \n",
    "def picture(world, Xs: range, Ys: range) -> str:\n",
    "    \"\"\"Return a picture of the world: a grid of characters representing the cells in this window.\"\"\"\n",
    "    def row(y): return PAD.join(VALID if (x, y) in world else INVALID for x in Xs)\n",
    "    return '\\n'.join(row(y) for y in Ys)"
   ]
  },
  {
   "cell_type": "code",
   "execution_count": 85,
   "metadata": {},
   "outputs": [
    {
     "name": "stdout",
     "output_type": "stream",
     "text": [
      "                                                                                                   \n",
      "                                                                                                   \n",
      "                                                                                                   \n",
      "                                                                            X                      \n",
      "                                                                        X X X X                    \n",
      "                                                                        X X X X                    \n",
      "                                                                        X X X X                    \n",
      "                                                                X   X X X X X X                    \n",
      "                                                            X     X X X X X X X X X X              \n",
      "                                                          X X X X X X X X X X X X X X X X X X      \n",
      "                                                          X X X X X X X X X X X X X X X X X X      \n",
      "                                                      X   X X X X X X X X X X X X X X X X X        \n",
      "                                                        X X X X X X X X X X X X X X X X X X X      \n",
      "                                                    X X X X X X X X X X X X X X X X X X X X X X X  \n",
      "                                                      X X X X X X X X X X X X X X X X X X X X X    \n",
      "                                  X   X X X         X X X X X X X X X X X X X X X X X X X X X X    \n",
      "                                  X X X X X X X     X X X X X X X X X X X X X X X X X X X X X X    \n",
      "                                X X X X X X X X X   X X X X X X X X X X X X X X X X X X X X X X    \n",
      "                                X X X X X X X X X   X X X X X X X X X X X X X X X X X X X X X X    \n",
      "                          X X   X X X X X X X X X X X X X X X X X X X X X X X X X X X X X X X      \n",
      "  X X X X X X X X X X X X X X X X X X X X X X X X X X X X X X X X X X X X X X X X X X X X X        \n",
      "                          X X   X X X X X X X X X X X X X X X X X X X X X X X X X X X X X X X      \n",
      "                                X X X X X X X X X   X X X X X X X X X X X X X X X X X X X X X X    \n",
      "                                X X X X X X X X X   X X X X X X X X X X X X X X X X X X X X X X    \n",
      "                                  X X X X X X X     X X X X X X X X X X X X X X X X X X X X X X    \n",
      "                                  X   X X X         X X X X X X X X X X X X X X X X X X X X X X    \n",
      "                                                      X X X X X X X X X X X X X X X X X X X X X    \n",
      "                                                    X X X X X X X X X X X X X X X X X X X X X X X  \n",
      "                                                        X X X X X X X X X X X X X X X X X X X      \n",
      "                                                      X   X X X X X X X X X X X X X X X X X        \n",
      "                                                          X X X X X X X X X X X X X X X X X X      \n",
      "                                                          X X X X X X X X X X X X X X X X X X      \n",
      "                                                            X     X X X X X X X X X X              \n",
      "                                                                X   X X X X X X                    \n",
      "                                                                        X X X X                    \n",
      "                                                                        X X X X                    \n",
      "                                                                        X X X X                    \n",
      "                                                                            X                      \n",
      "                                                                                                   \n",
      "                                                                                                   \n"
     ]
    }
   ],
   "source": [
    "g = set([(x, y) for x, y in zip(valid_idx[:, 1], valid_idx[:, 0])])\n",
    "pic = picture(g, range(possible_c.shape[1]), range(possible_c.shape[0]))\n",
    "print(pic)"
   ]
  }
 ],
 "metadata": {
  "kernelspec": {
   "display_name": "pure",
   "language": "python",
   "name": "python3"
  },
  "language_info": {
   "codemirror_mode": {
    "name": "ipython",
    "version": 3
   },
   "file_extension": ".py",
   "mimetype": "text/x-python",
   "name": "python",
   "nbconvert_exporter": "python",
   "pygments_lexer": "ipython3",
   "version": "3.11.5"
  }
 },
 "nbformat": 4,
 "nbformat_minor": 2
}
