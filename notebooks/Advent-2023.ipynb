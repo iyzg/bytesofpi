{
 "cells": [
  {
   "cell_type": "markdown",
   "metadata": {},
   "source": [
    "<div style=\"text-align: right\" align=\"right\"><i>Ivy Zhang, December 2023</i></div>\n",
    "\n",
    "# Advent of Code 2023\n",
    "\n",
    "Going to try and solve Advent of Code as efficiently as possible this year to get better at Python!"
   ]
  },
  {
   "cell_type": "markdown",
   "metadata": {},
   "source": [
    "## Day 0: Prep\n",
    "\n",
    "Just importing things that I might need to keep this file clean!"
   ]
  },
  {
   "cell_type": "code",
   "execution_count": 4,
   "metadata": {},
   "outputs": [],
   "source": [
    "%run Advent-Utils.ipynb"
   ]
  },
  {
   "cell_type": "markdown",
   "metadata": {},
   "source": [
    "## [Day 1](https://adventofcode.com/2023/day/1): Trebuchet?!"
   ]
  },
  {
   "cell_type": "markdown",
   "metadata": {},
   "source": [
    "### Part 1: Find first and last digit, concatenate and sum all of them together"
   ]
  },
  {
   "cell_type": "code",
   "execution_count": 5,
   "metadata": {},
   "outputs": [
    {
     "name": "stdout",
     "output_type": "stream",
     "text": [
      "54968\n"
     ]
    }
   ],
   "source": [
    "in1 = parse(1)\n",
    "\n",
    "numbers1 = [re.findall(r'\\d', t) for t in in1]\n",
    "combined_numbers1 = [int(str(t[0]) + str(t[-1])) for t in numbers1]\n",
    "ans1 = sum(combined_numbers1)\n",
    "\n",
    "print(ans1)"
   ]
  },
  {
   "cell_type": "markdown",
   "metadata": {},
   "source": [
    "### Part 2: You must now also take text digits into consideration"
   ]
  },
  {
   "cell_type": "code",
   "execution_count": 6,
   "metadata": {},
   "outputs": [
    {
     "name": "stdout",
     "output_type": "stream",
     "text": [
      "54094\n"
     ]
    }
   ],
   "source": [
    "mappings = {\n",
    "    'one': '1',\n",
    "    'two': '2',\n",
    "    'three': '3',\n",
    "    'four': '4',\n",
    "    'five': '5',\n",
    "    'six': '6',\n",
    "    'seven': '7',\n",
    "    'eight': '8',\n",
    "    'nine': '9',\n",
    "}\n",
    "\n",
    "def parse_calibration(cal, iter):\n",
    "    for i in iter:\n",
    "        if cal[i].isdigit():\n",
    "            return int(cal[i])\n",
    "        for dig in mappings:\n",
    "            if cal[i:i+len(dig)] == dig:\n",
    "                return mappings[dig]\n",
    "\n",
    "\n",
    "def parse_calibrations(calibrations):\n",
    "    combined_nums = []\n",
    "    for cal in calibrations:\n",
    "        fd, ld = -1, -1\n",
    "        fd = parse_calibration(cal, range(len(cal)))\n",
    "        ld = parse_calibration(cal, reversed(range(len(cal))))\n",
    "        combined_nums.append([fd, ld])\n",
    "    return combined_nums\n",
    "\n",
    "in1 = parse(1)\n",
    "in1 = parse_calibrations(in1)\n",
    "combined_numbers1 = [int(str(t[0]) + str(t[-1])) for t in in1]\n",
    "ans1 = sum(combined_numbers1)\n",
    "print(ans1)\n"
   ]
  },
  {
   "cell_type": "markdown",
   "metadata": {},
   "source": [
    "## [Day 2](https://adventofcode.com/2023/day/2): Cube Conundrum"
   ]
  },
  {
   "cell_type": "code",
   "execution_count": 71,
   "metadata": {},
   "outputs": [],
   "source": [
    "in2 = parse(2, atoms)"
   ]
  },
  {
   "cell_type": "markdown",
   "metadata": {},
   "source": [
    "### Part 1\n",
    "\n",
    "Each \"hand\" can be played in any order and with number of colors. This means my parsing has to be able to take that into account. Given 12 red cubes, 13 blue cubes, and 14 green cubes, see is the hands that the elf is showing are valid"
   ]
  },
  {
   "cell_type": "code",
   "execution_count": 58,
   "metadata": {},
   "outputs": [
    {
     "name": "stdout",
     "output_type": "stream",
     "text": [
      "2600\n"
     ]
    }
   ],
   "source": [
    "limits = {\n",
    "    'red': 12,\n",
    "    'green': 13,\n",
    "    'blue': 14\n",
    "}\n",
    "\n",
    "def find_cube_possibilities() -> int:\n",
    "    ans = 0\n",
    "    for game in in2:\n",
    "        id = game[1]\n",
    "        for i in range(2, len(game), 2):\n",
    "            num, color = game[i], game[i+1]\n",
    "            if num > limits[color]:\n",
    "                break\n",
    "        else:\n",
    "            ans += id\n",
    "    return ans\n",
    "\n",
    "print(find_cube_possibilities())"
   ]
  },
  {
   "cell_type": "markdown",
   "metadata": {},
   "source": [
    "### Part 2\n",
    "\n",
    "Instead of checking whether or not a game is possible, figure out what the minimum number of each type of color is."
   ]
  },
  {
   "cell_type": "code",
   "execution_count": 72,
   "metadata": {},
   "outputs": [
    {
     "name": "stdout",
     "output_type": "stream",
     "text": [
      "86036\n"
     ]
    }
   ],
   "source": [
    "def find_min_cubes() -> int:\n",
    "    ans = 0\n",
    "    for game in in2:\n",
    "        color_mins = {\n",
    "            'red': 0,\n",
    "            'green': 0,\n",
    "            'blue': 0\n",
    "        }\n",
    "        for i in range(2, len(game), 2):\n",
    "            num, color = game[i], game[i+1]\n",
    "            color_mins[color] = max(color_mins[color], num)\n",
    "            \n",
    "        game_power = 1\n",
    "        for color in color_mins:\n",
    "            game_power *= color_mins[color]\n",
    "        ans += game_power\n",
    "    return ans\n",
    "\n",
    "print(find_min_cubes())"
   ]
  }
 ],
 "metadata": {
  "kernelspec": {
   "display_name": "pure",
   "language": "python",
   "name": "python3"
  },
  "language_info": {
   "codemirror_mode": {
    "name": "ipython",
    "version": 3
   },
   "file_extension": ".py",
   "mimetype": "text/x-python",
   "name": "python",
   "nbconvert_exporter": "python",
   "pygments_lexer": "ipython3",
   "version": "3.11.5"
  }
 },
 "nbformat": 4,
 "nbformat_minor": 2
}
