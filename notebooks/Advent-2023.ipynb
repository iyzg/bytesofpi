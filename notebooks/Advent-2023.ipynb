{
 "cells": [
  {
   "cell_type": "markdown",
   "metadata": {},
   "source": [
    "<div style=\"text-align: right\" align=\"right\"><i>Ivy Zhang, December 2023</i></div>\n",
    "\n",
    "# Advent of Code 2023\n",
    "\n",
    "Going to try and solve Advent of Code as efficiently as possible this year to get better at Python!"
   ]
  },
  {
   "cell_type": "markdown",
   "metadata": {},
   "source": [
    "## Day 0: Prep\n",
    "\n",
    "Just importing things that I might need to keep this file clean!"
   ]
  },
  {
   "cell_type": "code",
   "execution_count": 1,
   "metadata": {},
   "outputs": [],
   "source": [
    "%run Advent-Utils.ipynb"
   ]
  },
  {
   "cell_type": "markdown",
   "metadata": {},
   "source": [
    "## [Day 1](https://adventofcode.com/2023/day/1): Trebuchet?!"
   ]
  },
  {
   "cell_type": "markdown",
   "metadata": {},
   "source": [
    "### Part 1: Find first and last digit, concatenate and sum all of them together"
   ]
  },
  {
   "cell_type": "code",
   "execution_count": 5,
   "metadata": {},
   "outputs": [
    {
     "name": "stdout",
     "output_type": "stream",
     "text": [
      "54968\n"
     ]
    }
   ],
   "source": [
    "in1 = parse(1)\n",
    "\n",
    "numbers1 = [re.findall(r'\\d', t) for t in in1]\n",
    "combined_numbers1 = [int(str(t[0]) + str(t[-1])) for t in numbers1]\n",
    "ans1 = sum(combined_numbers1)\n",
    "\n",
    "print(ans1)"
   ]
  },
  {
   "cell_type": "markdown",
   "metadata": {},
   "source": [
    "### Part 2: You must now also take text digits into consideration"
   ]
  },
  {
   "cell_type": "code",
   "execution_count": 6,
   "metadata": {},
   "outputs": [
    {
     "name": "stdout",
     "output_type": "stream",
     "text": [
      "54094\n"
     ]
    }
   ],
   "source": [
    "mappings = {\n",
    "    'one': '1',\n",
    "    'two': '2',\n",
    "    'three': '3',\n",
    "    'four': '4',\n",
    "    'five': '5',\n",
    "    'six': '6',\n",
    "    'seven': '7',\n",
    "    'eight': '8',\n",
    "    'nine': '9',\n",
    "}\n",
    "\n",
    "def parse_calibration(cal, iter):\n",
    "    for i in iter:\n",
    "        if cal[i].isdigit():\n",
    "            return int(cal[i])\n",
    "        for dig in mappings:\n",
    "            if cal[i:i+len(dig)] == dig:\n",
    "                return mappings[dig]\n",
    "\n",
    "\n",
    "def parse_calibrations(calibrations):\n",
    "    combined_nums = []\n",
    "    for cal in calibrations:\n",
    "        fd, ld = -1, -1\n",
    "        fd = parse_calibration(cal, range(len(cal)))\n",
    "        ld = parse_calibration(cal, reversed(range(len(cal))))\n",
    "        combined_nums.append([fd, ld])\n",
    "    return combined_nums\n",
    "\n",
    "in1 = parse(1)\n",
    "in1 = parse_calibrations(in1)\n",
    "combined_numbers1 = [int(str(t[0]) + str(t[-1])) for t in in1]\n",
    "ans1 = sum(combined_numbers1)\n",
    "print(ans1)\n"
   ]
  },
  {
   "cell_type": "markdown",
   "metadata": {},
   "source": [
    "## [Day 2](https://adventofcode.com/2023/day/2): Cube Conundrum"
   ]
  },
  {
   "cell_type": "code",
   "execution_count": 71,
   "metadata": {},
   "outputs": [],
   "source": [
    "in2 = parse(2, atoms)"
   ]
  },
  {
   "cell_type": "markdown",
   "metadata": {},
   "source": [
    "### Part 1\n",
    "\n",
    "Each \"hand\" can be played in any order and with number of colors. This means my parsing has to be able to take that into account. Given 12 red cubes, 13 blue cubes, and 14 green cubes, see is the hands that the elf is showing are valid"
   ]
  },
  {
   "cell_type": "code",
   "execution_count": 58,
   "metadata": {},
   "outputs": [
    {
     "name": "stdout",
     "output_type": "stream",
     "text": [
      "2600\n"
     ]
    }
   ],
   "source": [
    "limits = {\n",
    "    'red': 12,\n",
    "    'green': 13,\n",
    "    'blue': 14\n",
    "}\n",
    "\n",
    "def find_cube_possibilities() -> int:\n",
    "    ans = 0\n",
    "    for game in in2:\n",
    "        id = game[1]\n",
    "        for i in range(2, len(game), 2):\n",
    "            num, color = game[i], game[i+1]\n",
    "            if num > limits[color]:\n",
    "                break\n",
    "        else:\n",
    "            ans += id\n",
    "    return ans\n",
    "\n",
    "print(find_cube_possibilities())"
   ]
  },
  {
   "cell_type": "markdown",
   "metadata": {},
   "source": [
    "### Part 2\n",
    "\n",
    "Instead of checking whether or not a game is possible, figure out what the minimum number of each type of color is."
   ]
  },
  {
   "cell_type": "code",
   "execution_count": 72,
   "metadata": {},
   "outputs": [
    {
     "name": "stdout",
     "output_type": "stream",
     "text": [
      "86036\n"
     ]
    }
   ],
   "source": [
    "def find_min_cubes() -> int:\n",
    "    ans = 0\n",
    "    for game in in2:\n",
    "        color_mins = {\n",
    "            'red': 0,\n",
    "            'green': 0,\n",
    "            'blue': 0\n",
    "        }\n",
    "        for i in range(2, len(game), 2):\n",
    "            num, color = game[i], game[i+1]\n",
    "            color_mins[color] = max(color_mins[color], num)\n",
    "            \n",
    "        game_power = 1\n",
    "        for color in color_mins:\n",
    "            game_power *= color_mins[color]\n",
    "        ans += game_power\n",
    "    return ans\n",
    "\n",
    "print(find_min_cubes())"
   ]
  },
  {
   "cell_type": "markdown",
   "metadata": {},
   "source": [
    "### [Day 3](https://adventofcode.com/2023/day/3): Gear Ratios"
   ]
  },
  {
   "cell_type": "code",
   "execution_count": 58,
   "metadata": {},
   "outputs": [],
   "source": [
    "in3 = list(parse(3))"
   ]
  },
  {
   "cell_type": "markdown",
   "metadata": {},
   "source": [
    "One idea is that from the symbols, you flood fill outwards going into number tiles, then you can use regex to find the numbers that are \"valid\"."
   ]
  },
  {
   "cell_type": "code",
   "execution_count": 59,
   "metadata": {},
   "outputs": [
    {
     "name": "stdout",
     "output_type": "stream",
     "text": [
      "550934\n"
     ]
    }
   ],
   "source": [
    "h, l = len(in3), len(in3[0])\n",
    "\n",
    "val = [[0 for _ in range(l)] for _ in range(h)]\n",
    "q = deque()\n",
    "\n",
    "for i, line in enumerate(in3):\n",
    "    for j, c in enumerate(line):\n",
    "        if not c.isdigit() and c != '.':\n",
    "            for di in range(-1, 2):\n",
    "                for dj in range(-1, 2):\n",
    "                    ni, nj = i + di, j + dj\n",
    "                    if 0 <= ni < h and 0 <= nj < l and in3[ni][nj].isdigit():\n",
    "                        val[ni][nj] = 1\n",
    "                        q.append((ni, nj))\n",
    "\n",
    "while len(q) > 0:\n",
    "    i, j = q.pop()\n",
    "    # print('popping')\n",
    "    for dj in range(-1, 2):\n",
    "        ni, nj = i, j + dj\n",
    "        if 0 <= ni < h and 0 <= nj < l:\n",
    "            # print(f'({ni}, {nj}) -> {in3[ni][nj]}')\n",
    "            if val[ni][nj] == 0 and in3[ni][nj].isdigit():\n",
    "                # print('adding new')\n",
    "                val[ni][nj] = 1\n",
    "                # print(f'Adding ({ni}, {nj})')\n",
    "                q.append((ni, nj))\n",
    "\n",
    "ans = 0\n",
    "\n",
    "# for i in range(h):\n",
    "#     for j in range(l):\n",
    "#         print(val[i][j], end='')\n",
    "#     print()\n",
    "\n",
    "for i, line in enumerate(in3):\n",
    "    nums = [(m.group(0), m.start(0)) for m in re.finditer(r'\\d+', line)]\n",
    "    for num, index in nums:\n",
    "        if val[i][index] > 0:\n",
    "            ans += int(num)\n",
    "            # print(f'Adding {num}')\n",
    "\n",
    "print(ans)\n"
   ]
  },
  {
   "cell_type": "markdown",
   "metadata": {},
   "source": [
    "### Part 2\n",
    "\n",
    "Now we're looking for gears. Instead of flooding each one, should write a function that takes in an index and a marker and floods it in along with giving you the integer. Then for each symbol, keep track of how many ints you got to see whether or not you have a valid \"gear\"."
   ]
  },
  {
   "cell_type": "code",
   "execution_count": 60,
   "metadata": {},
   "outputs": [
    {
     "name": "stdout",
     "output_type": "stream",
     "text": [
      "81997870\n"
     ]
    }
   ],
   "source": [
    "h, l = len(in3), len(in3[0])\n",
    "\n",
    "vis = [[0 for _ in range(l)] for _ in range(h)]\n",
    "\n",
    "def flood_num(i, j):\n",
    "    val = in3[i][j]\n",
    "    lj, rj = j-1, j+1\n",
    "    vis[i][j] = 1\n",
    "\n",
    "    while lj >= 0 and in3[i][lj].isdigit():\n",
    "        val = in3[i][lj] + val\n",
    "        vis[i][lj] = 1\n",
    "        lj -= 1\n",
    "\n",
    "    while rj < l and in3[i][rj].isdigit():\n",
    "        val = val + in3[i][rj]\n",
    "        vis[i][rj] = 1\n",
    "        rj += 1\n",
    "\n",
    "    return int(val)\n",
    "\n",
    "ans = 0\n",
    "\n",
    "for i, line in enumerate(in3):\n",
    "    for j, c in enumerate(line):\n",
    "        if c == '*':\n",
    "            adjacent_nums = []\n",
    "            for di in range(-1, 2):\n",
    "                for dj in range(-1, 2):\n",
    "                    ni, nj = i + di, j + dj\n",
    "                    if 0 <= ni < h and 0 <= nj < l and in3[ni][nj].isdigit() and not vis[ni][nj]:\n",
    "                        adjacent_nums.append(flood_num(ni, nj))\n",
    "            if len(adjacent_nums) == 2:\n",
    "                ans += adjacent_nums[0] * adjacent_nums[1]\n",
    "\n",
    "print(ans)\n"
   ]
  }
 ],
 "metadata": {
  "kernelspec": {
   "display_name": "pure",
   "language": "python",
   "name": "python3"
  },
  "language_info": {
   "codemirror_mode": {
    "name": "ipython",
    "version": 3
   },
   "file_extension": ".py",
   "mimetype": "text/x-python",
   "name": "python",
   "nbconvert_exporter": "python",
   "pygments_lexer": "ipython3",
   "version": "3.11.5"
  }
 },
 "nbformat": 4,
 "nbformat_minor": 2
}
