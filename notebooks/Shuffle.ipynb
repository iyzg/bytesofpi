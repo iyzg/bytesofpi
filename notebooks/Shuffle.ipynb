{
  "nbformat": 4,
  "nbformat_minor": 0,
  "metadata": {
    "colab": {
      "provenance": []
    },
    "kernelspec": {
      "name": "python3",
      "display_name": "Python 3"
    },
    "language_info": {
      "name": "python"
    }
  },
  "cells": [
    {
      "cell_type": "markdown",
      "source": [
        "<div style=\"text-align: right\"><i>Ivy Zhang<br>2023</i></div>\n",
        "\n",
        "# How should you shuffle songs?\n",
        "\n",
        "Almost a decade ago, Spotify had a [shuffling crisis](https://engineering.atspotify.com/2014/02/how-to-shuffle-songs/). Even though they were doing *theory optimal* shuffling, people weren't happy. Sure, the music was randomly shuffled, but it didn't **feel** randomly shuffled. Now why is that?\n",
        "\n",
        "![](https://empiricalzeal.com/wp-content/uploads/2012/12/pinker-glow-worms-and-stars-plot.jpg)\n",
        "\n",
        "Here are two distributions from Steven Pinker's *The Better Angels of Our Nature* and from [this lovely blog post](https://empiricalzeal.com/2012/12/21/what-does-randomness-look-like/). **Which one these is randomly distrbuted?**\n",
        "\n",
        "Now perhaps after being primed with such a question, you're inclined to choose the left image, but our instinct is to think the right distribution is random even though it is much more uniform than random. It takes something more than randomness to spread points in a grid without forming any clusters. This desire to find patterns in random patterns isn't completely random, it's called [apophenia](https://en.wikipedia.org/wiki/Apophenia#:~:text=Apophenia%20has%20also%20come%20to,as%20can%20occur%20in%20gambling.), and it's a thing all us silly little humans do.\n",
        "\n",
        "So what if we want to create distributions that *feel random*?\n"
      ],
      "metadata": {
        "id": "BQbkfPtRY2qp"
      }
    },
    {
      "cell_type": "code",
      "source": [
        "from collections        import Counter\n",
        "from math               import ceil, sqrt\n",
        "from random             import randint, random, uniform\n",
        "from IPython.display    import clear_output, display_html"
      ],
      "metadata": {
        "id": "7kO5iFDkY3Xd"
      },
      "execution_count": 33,
      "outputs": []
    },
    {
      "cell_type": "markdown",
      "source": [
        "While we're here importing some packages, I'm also going to create an initial set of items that is split between `#` and `.` along with a utility to print out a grid of shuffled lists."
      ],
      "metadata": {
        "id": "zQZzFuqmJOuV"
      }
    },
    {
      "cell_type": "code",
      "source": [
        "half_split_items = \"########........\""
      ],
      "metadata": {
        "id": "Lpn6ruO4acfC"
      },
      "execution_count": 34,
      "outputs": []
    },
    {
      "cell_type": "code",
      "source": [
        "def print_grid(items: str, shuffle_method, side_len: int):\n",
        "    \"\"\"Prints a grid of shuffled items using the given shuffle method.\"\"\"\n",
        "    for _ in range(side_len):\n",
        "        for _ in range(side_len):\n",
        "            print(shuffle_method(items) + \"    \", end=\"\")\n",
        "        print(\"\\n\\n\\n\")"
      ],
      "metadata": {
        "id": "Chd3adWYJFag"
      },
      "execution_count": 35,
      "outputs": []
    },
    {
      "cell_type": "markdown",
      "source": [
        "# (1) Perfectly Random Shuffles\n",
        "\n",
        "To begin, let's try and generate some list of characters and truly randomly shuffle them. In what might be the luckiest event in all of computer science, one of the simplest way to solve a problem is also the most optimal!\n",
        "\n",
        "From the original Spotify blog:\n",
        "> I think [Fisher-Yates shuffle](https://en.wikipedia.org/wiki/Fisher%E2%80%93Yates_shuffle) is one of the most beautiful random algorithms and it’s amazing that such complicated problem can be solved in 3 lines of code in some programming languages. And this is accomplished using the optimal number of operations and optimal amount of randomness."
      ],
      "metadata": {
        "id": "mM6E2059aWEG"
      }
    },
    {
      "cell_type": "code",
      "source": [
        "def fisher_yates_shuffle(items: str) -> str:\n",
        "    items = list(items)\n",
        "    n = len(items)\n",
        "    for i in range(n-1, 0, -1):\n",
        "        j = randint(0, i)\n",
        "        items[i], items[j] = items[j], items[i]\n",
        "    return \"\".join(items)"
      ],
      "metadata": {
        "id": "OeozkDtNcG_J"
      },
      "execution_count": 36,
      "outputs": []
    },
    {
      "cell_type": "code",
      "source": [
        "print_grid(half_split_items, fisher_yates_shuffle, 4)"
      ],
      "metadata": {
        "colab": {
          "base_uri": "https://localhost:8080/"
        },
        "id": "j2n26s6eJLP-",
        "outputId": "d251856f-51c0-4ca2-854f-5afee2ca6c91"
      },
      "execution_count": 37,
      "outputs": [
        {
          "output_type": "stream",
          "name": "stdout",
          "text": [
            "..#.####...###..    #.##....#...####    ##..#.#..#.###..    ##.##.#....#.##.    \n",
            "\n",
            "\n",
            "\n",
            "#...##..#.#.#.##    ...#..###.#.###.    .##....#..####.#    #.##.#.#..#.##..    \n",
            "\n",
            "\n",
            "\n",
            ".###....####...#    #..#.#..##.#..##    ..#.###..##..#.#    #.##.#..#.#...##    \n",
            "\n",
            "\n",
            "\n",
            "##.##.#.#....##.    ##.#....##.#..##    .##.#..###..##..    .#####..##.....#    \n",
            "\n",
            "\n",
            "\n"
          ]
        }
      ]
    },
    {
      "cell_type": "markdown",
      "source": [
        "It's instantly clear that the same clustering effect we saw in the initial random grid shows up here. Sure, we've implemented an efficient random function, but most people probably don't want to hear a single artist upwards of 3 times in a row no matter how much we claim perfect randomness."
      ],
      "metadata": {
        "id": "DOLK2re4JirJ"
      }
    },
    {
      "cell_type": "markdown",
      "source": [
        "# (2) Human Perceived Randomness\n",
        "\n",
        "For song shuffling, it doesn't seem to be *randomness* we want, but *diversity*. If you listen to a genre or artist once, then they shouldn't come on again. So rather than our initial approach of shuffling songs randomly, let's instead try spreading them out uniformly.\n",
        "\n",
        "From the original Spotify blog post, they mention dividing items out on a line with some random offset, and I've tried my best to replicate that idea here in python."
      ],
      "metadata": {
        "id": "IcibSqDgJAL7"
      }
    },
    {
      "cell_type": "code",
      "source": [
        "def human_shuffle(items: str) -> str:\n",
        "    parts = Counter(items)\n",
        "    line_length = 1.00\n",
        "    item_tuples = []\n",
        "    for char, cnt in parts.items():\n",
        "        offset = random()\n",
        "        base_step = line_length / cnt\n",
        "        for i in range(cnt):\n",
        "            item_tuples.append((char, offset))\n",
        "            offset += uniform(base_step - 0.05, base_step + 0.05)\n",
        "            if (offset > line_length):\n",
        "                offset -= line_length\n",
        "    item_tuples.sort(key=lambda pair: pair[1])\n",
        "    return \"\".join(c[0] for c in item_tuples)\n"
      ],
      "metadata": {
        "id": "nXDrSoaolYVf"
      },
      "execution_count": 38,
      "outputs": []
    },
    {
      "cell_type": "code",
      "source": [
        "print_grid(half_split_items, human_shuffle, 4)"
      ],
      "metadata": {
        "colab": {
          "base_uri": "https://localhost:8080/"
        },
        "id": "dxkE_mRIKelw",
        "outputId": "519d80f5-1ff6-466d-9a50-e2fd9e2b13ab"
      },
      "execution_count": 39,
      "outputs": [
        {
          "output_type": "stream",
          "name": "stdout",
          "text": [
            "#.#.##..##.#...#    #.##.#.#.#.#.#..    .##.##.#..#..#.#    .#.#.##..#.#.#.#    \n",
            "\n",
            "\n",
            "\n",
            ".#.#.#.#..#.##.#    #..##..#.##.#..#    #..#.#..#.#.##.#    .#.#.##.#.#..#.#    \n",
            "\n",
            "\n",
            "\n",
            ".#.#..#.##.#.##.    #.#.#..#.#.##.#.    #.#.#.#.#..##.#.    #.##..##.#.#..#.    \n",
            "\n",
            "\n",
            "\n",
            "..###..#.#.#.#.#    .##.#..#.#.#.#.#    .#.#.#.#..#.#.##    .##..#.#.#.#.#.#    \n",
            "\n",
            "\n",
            "\n"
          ]
        }
      ]
    },
    {
      "cell_type": "markdown",
      "source": [
        "Even with just the two genre playlist, you can clearly see what this offset + even distribution is doing to the songs. Songs are much more evenly distributed, so even though this might not be *random*, it'll feel random to the listener."
      ],
      "metadata": {
        "id": "Mts7jEmXKi9f"
      }
    },
    {
      "cell_type": "markdown",
      "source": [
        "# (3) A Final Test\n",
        "\n",
        "I'm not sure there's an objective way to measure these two things, but just for curiousity's sake, I've created a list with more categories of items to see how well the two algorithms split songs up. I'm sure that Spotify's shuffle is a lot more advanced than the simple algorithm I've coded up, but it's cool to see how even something so simple can come up with a passable reordering."
      ],
      "metadata": {
        "id": "D-hwi9EZO2zl"
      }
    },
    {
      "cell_type": "code",
      "source": [
        "more_real_playlist = \"#######@@@@@@...%%\""
      ],
      "metadata": {
        "id": "Prnrv0bwKzxf"
      },
      "execution_count": 40,
      "outputs": []
    },
    {
      "cell_type": "code",
      "source": [
        "def compare_shuffles(items: str, side_len: int):\n",
        "    print(\"Random Shuffle:\\n\")\n",
        "    print_grid(items, fisher_yates_shuffle, side_len)\n",
        "\n",
        "    print(\"\\nHuman Shuffle:\\n\")\n",
        "    print_grid(items, human_shuffle, side_len)"
      ],
      "metadata": {
        "id": "77PanXCtewPG"
      },
      "execution_count": 41,
      "outputs": []
    },
    {
      "cell_type": "code",
      "source": [
        "compare_shuffles(more_real_playlist, 4)"
      ],
      "metadata": {
        "id": "BAea64gS7QTz",
        "colab": {
          "base_uri": "https://localhost:8080/"
        },
        "outputId": "e0ac9642-30a2-41d2-b7e7-8f3ec97691ba"
      },
      "execution_count": 42,
      "outputs": [
        {
          "output_type": "stream",
          "name": "stdout",
          "text": [
            "Random Shuffle:\n",
            "\n",
            "#@.@@.%#@##@.##@#%    %@#@.###@%##..@@#@    @###@##@%..%#@.#@@    ##%#@.@#.%##@@.#@@    \n",
            "\n",
            "\n",
            "\n",
            "@#.###@#%#.@.%@@@#    ##@%.#.@#@@@.###@%    #.@#.#@#%@@%###.@@    ##.@@.#@#%##@#%@@.    \n",
            "\n",
            "\n",
            "\n",
            "@##.@.@#.%###@%#@@    #%.@@@###.@%#@@##.    @#.#@@#@@..###%@#%    #@@#.@@@@%##.#.#%#    \n",
            "\n",
            "\n",
            "\n",
            ".@@#.%#@.%@@#@####    .##@@@@###.@@.%##%    #@@###.%@@#@@.#%.#    @@%@.#..##%@#@@###    \n",
            "\n",
            "\n",
            "\n",
            "\n",
            "Human Shuffle:\n",
            "\n",
            "#.@#@#.@%#@#@.#%#@    #@#%.@#@#.#@%#@#@.    @#.#@@#%.@##@#.%@#    %@#@.#@#@%#.@##@.#    \n",
            "\n",
            "\n",
            "\n",
            "#.@@%#@.##@#.@#%#@    %#@@.##@#@.#%@#.@#    @#.%#@#@#.@#%@#.@#    @.#@#@%#.@##@#.@%#    \n",
            "\n",
            "\n",
            "\n",
            "#@#@.#@%.#@#@#.#@%    #@%.#@#@#.#@%#@#.@    @#.@@#%#.@#@##.@%#    ##@%@.#@#@#.%#@#.@    \n",
            "\n",
            "\n",
            "\n",
            ".@#%@#.@#@#.@%##@#    #.@##@.#@%#@#.@#@%    @##%@.#@#@#.@%#@#.    %#@#.@#@#.@%#@##.@    \n",
            "\n",
            "\n",
            "\n"
          ]
        }
      ]
    },
    {
      "cell_type": "markdown",
      "source": [
        "This was largely inspired by Peter Norvig's [pytudes](https://github.com/norvig/pytudes) (you should definitely go check them out)! I'm sure there's room for improvement, both in code and writing, so if you have any ideas of how to improve this, send them my way on X (AKA Twitter) [@_ivyzhang](https://twitter.com/_ivyzhang)!"
      ],
      "metadata": {
        "id": "7EBY3DBhPSBx"
      }
    }
  ]
}