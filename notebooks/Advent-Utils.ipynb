{
 "cells": [
  {
   "cell_type": "code",
   "execution_count": 30,
   "metadata": {},
   "outputs": [],
   "source": [
    "from bisect      import bisect_left\n",
    "from collections import deque, defaultdict\n",
    "from functools   import reduce\n",
    "from itertools   import combinations\n",
    "from typing      import *\n",
    "\n",
    "import math\n",
    "import os\n",
    "import pprint\n",
    "import re"
   ]
  },
  {
   "cell_type": "markdown",
   "metadata": {},
   "source": [
    "## Input functions"
   ]
  },
  {
   "cell_type": "code",
   "execution_count": 31,
   "metadata": {},
   "outputs": [],
   "source": [
    "year = 2023\n",
    "\n",
    "lines = str.splitlines\n",
    "def paragraphs(text): return text.split('\\n\\n')\n",
    "\n",
    "def parse(day_or_text: Union[str, int], parser: callable=str, splitter: callable=lines):\n",
    "    \"\"\"Splits the input file using `splitter` before parsing each split with `parser`\"\"\"\n",
    "    text = get_text(day_or_text)\n",
    "    records = mapt(parser, splitter(text.rstrip()))\n",
    "    return records\n",
    "\n",
    "def get_text(day_or_text: Union[str, int]):\n",
    "    if isinstance(day_or_text, str):\n",
    "        return day_or_text\n",
    "    else:\n",
    "        with open(f'../data/AOC/{year}/input{day_or_text}.txt') as f:\n",
    "            return f.read()\n",
    "    "
   ]
  },
  {
   "cell_type": "code",
   "execution_count": 40,
   "metadata": {},
   "outputs": [],
   "source": [
    "Atom = Union[str, int, float]\n",
    "Char = str\n",
    "\n",
    "def ints(text: str) -> Tuple[int]:\n",
    "    \"\"\"A tuple of all the integers in text, ignoring non-number characters.\"\"\"\n",
    "    return mapt(int, re.findall(r'-?[0-9]+', text))\n",
    "\n",
    "def pos_ints(text: str) -> Tuple[int]:\n",
    "    \"\"\"A tuple of all the positive ints in text.\"\"\"\n",
    "    return mapt(int, re.findall(r'\\d+', text))\n",
    "\n",
    "def digits(text: str) -> Tuple[int]:\n",
    "    \"\"\"A tuple of all the digits in text (as ints 0–9), ignoring non-digit characters.\"\"\"\n",
    "    return mapt(int, re.findall(r'[0-9]', text))\n",
    "\n",
    "def chars(text: str) -> Tuple[Char]:\n",
    "    \"\"\"A tuple of all the chars in the text, including punctuation.\"\"\"\n",
    "    return mapt(Char, re.findall(r'\\S', text))\n",
    "\n",
    "def strings(text: str) -> Tuple[str]:\n",
    "    return mapt(str, re.findall(r'\\w+', text))\n",
    "\n",
    "def words(text: str) -> Tuple[str]:\n",
    "    return mapt(str, re.findall(r'[a-zA-Z]+', text))\n",
    "\n",
    "def atoms(text: str) -> Tuple[Atom]:\n",
    "    \"\"\"A tuple of all the atoms (numbers or identifiers) in text. Skip punctuation.\"\"\"\n",
    "    return mapt(atom, re.findall(r'[+-]?\\d+\\.?\\d*|\\w+', text))\n",
    "\n",
    "def atom(text: str) -> Atom:\n",
    "    \"\"\"Parse text into a single float or int or str.\"\"\"\n",
    "    try:\n",
    "        x = float(text)\n",
    "        return round(x) if x.is_integer() else x\n",
    "    except ValueError:\n",
    "        return text.strip()"
   ]
  },
  {
   "cell_type": "markdown",
   "metadata": {},
   "source": [
    "Helper functions:"
   ]
  },
  {
   "cell_type": "code",
   "execution_count": 38,
   "metadata": {},
   "outputs": [],
   "source": [
    "def mapt(function: Callable, *sequences) -> tuple:\n",
    "    \"\"\"`map`, with the result as a tuple.\"\"\"\n",
    "    return tuple(map(function, *sequences))\n",
    "\n",
    "def mapl(function: Callable, *sequences) -> list:\n",
    "    \"\"\"`map`, with the result as a list.\"\"\"\n",
    "    return list(map(function, *sequences))"
   ]
  },
  {
   "cell_type": "markdown",
   "metadata": {},
   "source": [
    "Tests for the functions above:"
   ]
  },
  {
   "cell_type": "code",
   "execution_count": 44,
   "metadata": {},
   "outputs": [],
   "source": [
    "assert parse(\"hello\\nworld\") == ('hello', 'world')\n",
    "assert parse(\"123\\nabc7\", digits) == ((1, 2, 3), (7,))\n",
    "\n",
    "assert    atoms('hello, cruel_world! 24-7') == ('hello', 'cruel_world', 24, -7)\n",
    "assert    words('hello, cruel_world! 24-7') == ('hello', 'cruel', 'world')\n",
    "assert    chars('hello, ')                  == ('h', 'e', 'l', 'l', 'o' ,',')\n",
    "assert   digits('hello, cruel_world! 24-7') == (2, 4, 7)\n",
    "assert     ints('hello, cruel_world! 24-7') == (24, -7)\n",
    "assert pos_ints('hello, cruel_world! 24-7') == (24, 7)"
   ]
  },
  {
   "cell_type": "markdown",
   "metadata": {},
   "source": [
    "## Points in space\n",
    "\n",
    "Cleaning up some code to make it easier to work with points that lie in some space. I'll have it so that each \"point\" takes in a variable number of integers that represents where its at in space"
   ]
  },
  {
   "cell_type": "code",
   "execution_count": null,
   "metadata": {},
   "outputs": [],
   "source": [
    "Point = Tuple[int, ...]\n",
    "Vector = Point                # E.g., (1, 0) can be a point, or can be a direction, a Vector\n",
    "Zero = (0, 0)\n",
    "\n",
    "directions4 = East, South, West, North = ((1, 0), (0, 1),  (-1, 0), (0, -1))\n",
    "diagonals   = SE,   NE,    SW,   NW    = ((1, 1), (1, -1), (-1, 1), (-1, -1))\n",
    "directions8 = directions4 + diagonals\n",
    "directions5 = directions4 + (Zero,)\n",
    "directions9 = directions8 + (Zero,)\n",
    "\n",
    "\n",
    "def X_(point) -> int: \"X coordinate of a point\"; return point[0]\n",
    "def Y_(point) -> int: \"Y coordinate of a point\"; return point[1]\n",
    "def Z_(point) -> int: \"Z coordinate of a point\"; return point[2]\n",
    "\n",
    "def Xs(points) -> Tuple[int]: \"X coordinates of a collection of points\"; return mapt(X_, points)\n",
    "def Ys(points) -> Tuple[int]: \"Y coordinates of a collection of points\"; return mapt(Y_, points)\n",
    "def Zs(points) -> Tuple[int]: \"X coordinates of a collection of points\"; return mapt(Z_, points)\n",
    "\n",
    "def add2(p: Point, q: Point) -> Point: \n",
    "    \"\"\"Specialized version of point addition for 2D Points only. Faster.\"\"\"\n",
    "    return (p[0] + q[0], p[1] + q[1])\n",
    "\n",
    "def taxi_distance(p: Point, q: Point) -> int:\n",
    "    \"\"\"Manhattan (L1) distance between two 2D Points.\"\"\"\n",
    "    return abs(p[0] - q[0]) + abs(p[1] - q[1])"
   ]
  },
  {
   "cell_type": "code",
   "execution_count": null,
   "metadata": {},
   "outputs": [],
   "source": [
    "def cells_around_8(x: int, y: int, include_center: bool=True):\n",
    "    for xi in range(-1, 2):\n",
    "        for yi in range(-1, 2):\n",
    "            if not include_center and xi == 0 and yi == 0:\n",
    "                continue\n",
    "            yield (x + xi, y + yi)\n",
    "\n",
    "def cells_around_4(x: int, y: int, include_center: bool=True):\n",
    "    for xi in range(-1, 2):\n",
    "        for yi in range(-1, 2):\n",
    "            if not include_center and xi == 0 and yi == 0:\n",
    "                continue\n",
    "            if abs(xi) + abs(yi) > 1:\n",
    "                continue\n",
    "            yield (x + xi, y + yi)"
   ]
  }
 ],
 "metadata": {
  "kernelspec": {
   "display_name": "pure",
   "language": "python",
   "name": "python3"
  },
  "language_info": {
   "codemirror_mode": {
    "name": "ipython",
    "version": 3
   },
   "file_extension": ".py",
   "mimetype": "text/x-python",
   "name": "python",
   "nbconvert_exporter": "python",
   "pygments_lexer": "ipython3",
   "version": "3.11.5"
  }
 },
 "nbformat": 4,
 "nbformat_minor": 2
}
