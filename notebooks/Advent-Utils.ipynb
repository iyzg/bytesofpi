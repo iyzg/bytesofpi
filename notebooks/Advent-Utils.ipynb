{
 "cells": [
  {
   "cell_type": "code",
   "execution_count": 32,
   "metadata": {},
   "outputs": [],
   "source": [
    "from collections import deque\n",
    "from typing import *\n",
    "\n",
    "import os\n",
    "import pprint\n",
    "import re"
   ]
  },
  {
   "cell_type": "code",
   "execution_count": 13,
   "metadata": {},
   "outputs": [],
   "source": [
    "year = 2023"
   ]
  },
  {
   "cell_type": "markdown",
   "metadata": {},
   "source": [
    "## Input functions"
   ]
  },
  {
   "cell_type": "code",
   "execution_count": 14,
   "metadata": {},
   "outputs": [],
   "source": [
    "lines = str.splitlines\n",
    "\n",
    "def parse(day: int, parser: callable=str, splitter: callable=lines):\n",
    "    \"\"\"Splits the input file using `splitter` before parsing each split with `parser`\n",
    "    \"\"\"\n",
    "    text = get_text(day)\n",
    "    records = map(parser, splitter(text.rstrip()))\n",
    "    return records\n",
    "\n",
    "def get_text(day: int):\n",
    "    with open(f'../data/AOC/{year}/input{day}.txt') as f:\n",
    "        return f.read()\n",
    "    "
   ]
  },
  {
   "cell_type": "code",
   "execution_count": 29,
   "metadata": {},
   "outputs": [],
   "source": [
    "Atom = Union[str, int, float]\n",
    "\n",
    "def pos_ints(text: str) -> Tuple[int]:\n",
    "    \"\"\"A tuple of all the positive ints in text.\"\"\"\n",
    "    return mapt(int, re.findall(r'\\d+', text))\n",
    "\n",
    "def atoms(text: str) -> Tuple[Atom]:\n",
    "    \"\"\"A tuple of all the atoms (numbers or identifiers) in text. Skip punctuation.\"\"\"\n",
    "    return mapt(atom, re.findall(r'[+-]?\\d+\\.?\\d*|\\w+', text))\n",
    "\n",
    "def atom(text: str) -> Atom:\n",
    "    \"\"\"Parse text into a single float or int or str.\"\"\"\n",
    "    try:\n",
    "        x = float(text)\n",
    "        return round(x) if x.is_integer() else x\n",
    "    except ValueError:\n",
    "        return text.strip()"
   ]
  },
  {
   "cell_type": "markdown",
   "metadata": {},
   "source": [
    "Helper functions:"
   ]
  },
  {
   "cell_type": "code",
   "execution_count": 11,
   "metadata": {},
   "outputs": [],
   "source": [
    "def mapt(function: Callable, *sequences) -> tuple:\n",
    "    \"\"\"`map`, with the result as a tuple.\"\"\"\n",
    "    return tuple(map(function, *sequences))"
   ]
  },
  {
   "cell_type": "code",
   "execution_count": null,
   "metadata": {},
   "outputs": [],
   "source": []
  }
 ],
 "metadata": {
  "kernelspec": {
   "display_name": "pure",
   "language": "python",
   "name": "python3"
  },
  "language_info": {
   "codemirror_mode": {
    "name": "ipython",
    "version": 3
   },
   "file_extension": ".py",
   "mimetype": "text/x-python",
   "name": "python",
   "nbconvert_exporter": "python",
   "pygments_lexer": "ipython3",
   "version": "3.11.5"
  }
 },
 "nbformat": 4,
 "nbformat_minor": 2
}
