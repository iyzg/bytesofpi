{
 "cells": [
  {
   "cell_type": "markdown",
   "metadata": {},
   "source": [
    "<div style=\"text-align: right\"><i>Ivy Zhang<br>2024</i></div>\n",
    "\n",
    "## Vose Alias Method\n",
    "\n",
    "I first saw this mentioned in the [Node2Vec paper](https://arxiv.org/abs/1607.00653) where they used this technique to sample from a discrete distribution in $O(1)$!\n",
    "\n",
    "For an extremely well written essay on this method: you should go read [Darts, Dice, & Coin](https://www.keithschwarz.com/darts-dice-coins/). I've tried to provide the cleanest solution I can think of in Python here :)"
   ]
  },
  {
   "cell_type": "code",
   "execution_count": 158,
   "metadata": {},
   "outputs": [],
   "source": [
    "import matplotlib.pyplot as plt\n",
    "import random\n",
    "import math\n",
    "import numpy as np\n",
    "from typing import Tuple, List"
   ]
  },
  {
   "cell_type": "code",
   "execution_count": 159,
   "metadata": {},
   "outputs": [],
   "source": [
    "def precompute_tables(sample: List[float]) -> Tuple[List[float], List[int]]:\n",
    "    \"\"\"\n",
    "    Precomputes tables to be able to sample from in O(1) later.\n",
    "    \n",
    "    Takes in an arbitrary list of floats and converts them to probability. It\n",
    "    then returns a Probs array and Alias array.\n",
    "    \"\"\"\n",
    "    n = len(sample)\n",
    "\n",
    "    res_alias = [None for _ in range(n)]\n",
    "    res_probs = [0 for _ in range(n)]\n",
    "\n",
    "    # These are stacks like mentioned in array\n",
    "    small_idxs = []\n",
    "    large_idxs = []\n",
    "\n",
    "    # First convert inputs into probabilities\n",
    "    sample_sum = sum(sample)\n",
    "    probs = [x / sample_sum for x in sample]\n",
    "\n",
    "    # We then scale it so that average prob (1/n) would become 1\n",
    "    probs = [x * n for x in probs]\n",
    "\n",
    "    # Create your stacks\n",
    "    for i, p in enumerate(probs):\n",
    "        if p < 1:\n",
    "            small_idxs.append(i)\n",
    "        else:\n",
    "            large_idxs.append(i)\n",
    "\n",
    "    # Continue pairing large and small pairings to fill columns\n",
    "    while len(small_idxs) and len(large_idxs):\n",
    "        si = small_idxs.pop()\n",
    "        li = large_idxs.pop()\n",
    "\n",
    "        res_probs[si] = probs[si]\n",
    "        res_alias[si] = li\n",
    "        probs[li] = (probs[li] + probs[si] - 1.0)\n",
    "\n",
    "        if probs[li] < 1.0:\n",
    "            small_idxs.append(li)\n",
    "        else:\n",
    "            large_idxs.append(li)\n",
    "\n",
    "    # These are just to deal with numerical instability\n",
    "    # Anything left here should just be it's own column\n",
    "    while len(small_idxs):\n",
    "        si = small_idxs.pop()\n",
    "        res_probs[si] = 1.0\n",
    "\n",
    "    while len(large_idxs):\n",
    "        si = large_idxs.pop()\n",
    "        res_probs[si] = 1.0\n",
    "\n",
    "    return (res_probs, res_alias)"
   ]
  },
  {
   "cell_type": "code",
   "execution_count": 160,
   "metadata": {},
   "outputs": [],
   "source": [
    "def generate(probs, alias):\n",
    "    \"\"\"\n",
    "    Generates a random element with a fair dice and a biased coin toss.\n",
    "    \"\"\"\n",
    "    n = len(probs)\n",
    "    idx = math.floor(random.random() * n)\n",
    "    flip = random.random()\n",
    "    return idx if flip < probs[idx] else alias[idx]\n",
    "    "
   ]
  },
  {
   "cell_type": "code",
   "execution_count": 161,
   "metadata": {},
   "outputs": [],
   "source": [
    "num_gens = 10_000_000\n",
    "inputs = [20, 2, 10, 16, 30, 5]\n",
    "p_table, alias_table = precompute_tables(inputs)\n",
    "\n",
    "res = [0 for _ in range(len(inputs))]\n",
    "\n",
    "for _ in range(num_gens):\n",
    "    res[generate(p_table, alias_table)] += 1\n",
    "\n",
    "res_scaled = [x/sum(res) for x in res]\n",
    "inputs_scaled = [x/sum(inputs) for x in inputs]"
   ]
  },
  {
   "cell_type": "code",
   "execution_count": 162,
   "metadata": {},
   "outputs": [
    {
     "name": "stdout",
     "output_type": "stream",
     "text": [
      "Initial distribution: [0.24096385542168675, 0.024096385542168676, 0.12048192771084337, 0.1927710843373494, 0.3614457831325301, 0.060240963855421686]\n",
      "Dist after 10000000 samples: [0.2412024, 0.0240788, 0.1202891, 0.1928849, 0.3611357, 0.0604091]\n"
     ]
    }
   ],
   "source": [
    "print('Initial distribution:', inputs_scaled)\n",
    "print(f'Dist after {num_gens} samples:', res_scaled)"
   ]
  },
  {
   "cell_type": "markdown",
   "metadata": {},
   "source": [
    "Just in case that wasn't definitive, here's some code to plot the sampled distribution against the original one. (Heavily borrowed from the [matplotlib tutorials](https://matplotlib.org/stable/gallery/lines_bars_and_markers/barchart.html#sphx-glr-gallery-lines-bars-and-markers-barchart-py))."
   ]
  },
  {
   "cell_type": "code",
   "execution_count": 163,
   "metadata": {},
   "outputs": [
    {
     "data": {
      "image/png": "[encoded data removed]",
      "text/plain": [
       "<Figure size 640x480 with 1 Axes>"
      ]
     },
     "metadata": {},
     "output_type": "display_data"
    }
   ],
   "source": [
    "x = np.arange(len(inputs))\n",
    "width = 0.25  # the width of the bars\n",
    "\n",
    "fig, ax = plt.subplots(layout='constrained')\n",
    "\n",
    "ax.bar(x, inputs_scaled, width, label = 'Original')\n",
    "ax.bar(x + width, res_scaled, width, label = 'Sampled')\n",
    "\n",
    "ax.set_ylabel('p(x)')\n",
    "ax.set_xlabel('class')\n",
    "ax.set_title('Original distribution vs. sampled')\n",
    "ax.set_xticks(x+width / 2, x)\n",
    "ax.legend()\n",
    "\n",
    "plt.show()"
   ]
  }
 ],
 "metadata": {
  "kernelspec": {
   "display_name": "pure",
   "language": "python",
   "name": "python3"
  },
  "language_info": {
   "codemirror_mode": {
    "name": "ipython",
    "version": 3
   },
   "file_extension": ".py",
   "mimetype": "text/x-python",
   "name": "python",
   "nbconvert_exporter": "python",
   "pygments_lexer": "ipython3",
   "version": "3.11.5"
  }
 },
 "nbformat": 4,
 "nbformat_minor": 2
}
